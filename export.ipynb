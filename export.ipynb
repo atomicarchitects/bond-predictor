{
 "cells": [
  {
   "cell_type": "code",
   "execution_count": 11,
   "metadata": {},
   "outputs": [
    {
     "name": "stdout",
     "output_type": "stream",
     "text": [
      "The autoreload extension is already loaded. To reload it, use:\n",
      "  %reload_ext autoreload\n"
     ]
    }
   ],
   "source": [
    "%load_ext autoreload"
   ]
  },
  {
   "cell_type": "code",
   "execution_count": 12,
   "metadata": {},
   "outputs": [
    {
     "name": "stdout",
     "output_type": "stream",
     "text": [
      "2.6.0+cu124\n"
     ]
    }
   ],
   "source": [
    "%autoreload 2\n",
    "from typing import Optional\n",
    "import torch\n",
    "print(torch.__version__)\n",
    "import torch.export\n",
    "import torch.nn as nn\n",
    "import tqdm\n",
    "import numpy as np\n",
    "import matplotlib.colors as mcolors\n",
    "import matplotlib.pyplot as plt\n",
    "import seaborn as sns\n",
    "import lovelyplots\n",
    "plt.style.use('ipynb')\n",
    "\n",
    "import e3nn\n",
    "e3nn.set_optimization_defaults(jit_script_fx=False)\n",
    "torch.set_float32_matmul_precision('high')\n",
    "\n",
    "import e3tools\n",
    "import rdkit\n",
    "import rdkit.Chem as Chem\n",
    "\n",
    "from bond_predictor import models, rdkit_utils"
   ]
  },
  {
   "cell_type": "code",
   "execution_count": 13,
   "metadata": {},
   "outputs": [],
   "source": [
    "net = models.E3Conv()\n",
    "net = torch.compile(net, dynamic=True, fullgraph=True)"
   ]
  },
  {
   "cell_type": "code",
   "execution_count": 14,
   "metadata": {},
   "outputs": [
    {
     "data": {
      "text/plain": [
       "<All keys matched successfully>"
      ]
     },
     "execution_count": 14,
     "metadata": {},
     "output_type": "execute_result"
    }
   ],
   "source": [
    "weights = torch.load(f'weights_step_{80000}.pt')\n",
    "net.load_state_dict(weights)"
   ]
  },
  {
   "cell_type": "code",
   "execution_count": 15,
   "metadata": {},
   "outputs": [],
   "source": [
    "class ModelWrapper(torch.nn.Module):\n",
    "    \"\"\"Wrapper for export.\"\"\"\n",
    "\n",
    "    def __init__(self, net, input_keys, output_keys):\n",
    "        super(ModelWrapper, self).__init__()\n",
    "        self.net = net\n",
    "        self.input_keys = input_keys\n",
    "        self.output_keys = output_keys\n",
    "    \n",
    "    def forward(self, coordinates, atom_types, edge_index):\n",
    "        return self.net(coordinates, atom_types, edge_index)"
   ]
  },
  {
   "cell_type": "code",
   "execution_count": 16,
   "metadata": {},
   "outputs": [],
   "source": [
    "output_keys = ['bond_logits', 'charge_logits']\n",
    "input_keys = ['coordinates', 'atom_types', 'edge_index']\n",
    "\n",
    "wrapped_net = ModelWrapper(net, input_keys, output_keys)"
   ]
  },
  {
   "cell_type": "code",
   "execution_count": 17,
   "metadata": {},
   "outputs": [],
   "source": [
    "dummy_data = (torch.randn(10, 3), torch.randint(0, 100, (10,)), torch.randint(0, 10, (2, 15)))"
   ]
  },
  {
   "cell_type": "code",
   "execution_count": 18,
   "metadata": {},
   "outputs": [],
   "source": [
    "num_nodes = torch.export.Dim(\"num_nodes\", min=0, max=1000000)\n",
    "num_edges = torch.export.Dim(\"num_edges\", min=0, max=1000000)\n",
    "dynamic_shapes = {\"coordinates\": {0: num_nodes}, \"atom_types\": {0: num_nodes}, \"edge_index\": {1: num_edges}}\n",
    "\n",
    "exported = torch.export.export(\n",
    "    wrapped_net,\n",
    "    dummy_data,\n",
    "    dynamic_shapes=dynamic_shapes,\n",
    ")"
   ]
  },
  {
   "cell_type": "code",
   "execution_count": 19,
   "metadata": {},
   "outputs": [
    {
     "name": "stderr",
     "output_type": "stream",
     "text": [
      "/tmp/torchinductor_ameyad/c7qdxnsfszo7llkcgigaof6rgaspo7tww4tfz73hwnlfmj3njxgd/cp7yaftbo6hb42ptir7ndfhsf5s62zb2aiky6y53vulsfhtva5f7.cpp: In function ‘void cpp_fused_bmm_cat_scatter_reduce_zeros_2(const float*, const int64_t*, const int64_t*, const float*, const float*, float*, float*, float*, float*, float*, int64_t, int64_t)’:\n",
      "/tmp/torchinductor_ameyad/c7qdxnsfszo7llkcgigaof6rgaspo7tww4tfz73hwnlfmj3njxgd/cp7yaftbo6hb42ptir7ndfhsf5s62zb2aiky6y53vulsfhtva5f7.cpp:844:27: warning: variable ‘tmp_acc0_arr’ set but not used [-Wunused-but-set-variable]\n",
      "  844 |                     float tmp_acc0_arr[8];\n",
      "      |                           ^~~~~~~~~~~~\n",
      "/tmp/torchinductor_ameyad/c7qdxnsfszo7llkcgigaof6rgaspo7tww4tfz73hwnlfmj3njxgd/cp7yaftbo6hb42ptir7ndfhsf5s62zb2aiky6y53vulsfhtva5f7.cpp:849:27: warning: variable ‘tmp_acc1_arr’ set but not used [-Wunused-but-set-variable]\n",
      "  849 |                     float tmp_acc1_arr[8];\n",
      "      |                           ^~~~~~~~~~~~\n",
      "/tmp/torchinductor_ameyad/c7qdxnsfszo7llkcgigaof6rgaspo7tww4tfz73hwnlfmj3njxgd/cp7yaftbo6hb42ptir7ndfhsf5s62zb2aiky6y53vulsfhtva5f7.cpp: In function ‘void cpp_fused_add_bmm_mul_5(const float*, const int64_t*, const float*, const float*, float*, float*, float*, float*, float*, float*, int64_t, int64_t)’:\n",
      "/tmp/torchinductor_ameyad/c7qdxnsfszo7llkcgigaof6rgaspo7tww4tfz73hwnlfmj3njxgd/cp7yaftbo6hb42ptir7ndfhsf5s62zb2aiky6y53vulsfhtva5f7.cpp:1166:27: warning: variable ‘tmp_acc0_arr’ set but not used [-Wunused-but-set-variable]\n",
      " 1166 |                     float tmp_acc0_arr[8];\n",
      "      |                           ^~~~~~~~~~~~\n",
      "/tmp/torchinductor_ameyad/c7qdxnsfszo7llkcgigaof6rgaspo7tww4tfz73hwnlfmj3njxgd/cp7yaftbo6hb42ptir7ndfhsf5s62zb2aiky6y53vulsfhtva5f7.cpp:1171:27: warning: variable ‘tmp_acc1_arr’ set but not used [-Wunused-but-set-variable]\n",
      " 1171 |                     float tmp_acc1_arr[8];\n",
      "      |                           ^~~~~~~~~~~~\n"
     ]
    }
   ],
   "source": [
    "output_path = 'bond_predictor.pt2'\n",
    "out_path = torch._inductor.aoti_compile_and_package(\n",
    "    exported,\n",
    "    package_path=output_path,\n",
    ")"
   ]
  },
  {
   "cell_type": "code",
   "execution_count": 20,
   "metadata": {},
   "outputs": [],
   "source": [
    "aot_model = torch._inductor.aoti_load_package(out_path)\n",
    "aot_out = aot_model(dummy_data)\n",
    "bond_logits, charge_logits = aot_out"
   ]
  }
 ],
 "metadata": {
  "kernelspec": {
   "display_name": ".venv",
   "language": "python",
   "name": "python3"
  },
  "language_info": {
   "codemirror_mode": {
    "name": "ipython",
    "version": 3
   },
   "file_extension": ".py",
   "mimetype": "text/x-python",
   "name": "python",
   "nbconvert_exporter": "python",
   "pygments_lexer": "ipython3",
   "version": "3.11.11"
  }
 },
 "nbformat": 4,
 "nbformat_minor": 2
}
